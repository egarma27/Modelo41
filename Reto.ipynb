{
  "nbformat": 4,
  "nbformat_minor": 0,
  "metadata": {
    "kernelspec": {
      "display_name": "Python 3",
      "language": "python",
      "name": "python3"
    },
    "language_info": {
      "codemirror_mode": {
        "name": "ipython",
        "version": 3
      },
      "file_extension": ".py",
      "mimetype": "text/x-python",
      "name": "python",
      "nbconvert_exporter": "python",
      "pygments_lexer": "ipython3",
      "version": "3.8.5"
    },
    "colab": {
      "name": "Reto.ipynb",
      "provenance": [],
      "collapsed_sections": []
    }
  },
  "cells": [
    {
      "cell_type": "code",
      "metadata": {
        "colab": {
          "base_uri": "https://localhost:8080/"
        },
        "id": "ZGjRGx9xE_SC",
        "outputId": "c7b4dcc9-0a0b-49fe-e176-3113a9f8f2c8"
      },
      "source": [
        "from google.colab import drive\n",
        "\n",
        "drive.mount(\"/drive\")\n"
      ],
      "execution_count": null,
      "outputs": [
        {
          "output_type": "stream",
          "text": [
            "Mounted at /drive\n"
          ],
          "name": "stdout"
        }
      ]
    },
    {
      "cell_type": "code",
      "metadata": {
        "id": "proGp-caE_SX"
      },
      "source": [
        "import numpy as np\n",
        "import pandas as pd\n",
        "from sklearn.model_selection import train_test_split\n",
        "from tensorflow.python import keras\n",
        "from tensorflow.python.keras.models import Sequential\n",
        "from tensorflow.python.keras.layers import Dense, Flatten, Conv2D, Dropout\n",
        "import cv2\n",
        "import os\n",
        "import matplotlib.pyplot as plt\n",
        "from tensorflow.keras.optimizers import SGD, Adam, RMSprop, Adagrad\n",
        "\n",
        "\n"
      ],
      "execution_count": null,
      "outputs": []
    },
    {
      "cell_type": "code",
      "metadata": {
        "id": "PhEwzqe_E_Sf"
      },
      "source": [
        "from tensorflow.keras import regularizers"
      ],
      "execution_count": null,
      "outputs": []
    },
    {
      "cell_type": "code",
      "metadata": {
        "id": "JaEDdPRiE_Sh"
      },
      "source": [
        "def read_data(path):\n",
        "\t\n",
        "\t#Lectura de archivos CSV\n",
        "\ttrain_data = pd.read_csv(path)                    #Archivo de Entrenamiento\n",
        "\t\n",
        "\t#Convierto Data a numpy arrays\n",
        "\ttrain_data = train_data.to_numpy()\n",
        "\n",
        "\t#Separo los datos en filenames y outputs\n",
        "\t#Filenames y Outputs del Conjunto de Entrenamiento\n",
        "\ttrain_filenames = train_data[:,0]\n",
        "\ttrain_outputs   = train_data[:,1]\n",
        "\n",
        "\treturn train_filenames, train_outputs\n",
        "\n",
        "train_filenames, train_outputs = read_data(\"/drive/MyDrive/TACC/Reto/train.csv\")\n",
        "sample_filenames, sample_outputs = read_data(\"/drive/MyDrive/TACC/Reto/sample_submission (4).csv\")\n"
      ],
      "execution_count": null,
      "outputs": []
    },
    {
      "cell_type": "code",
      "metadata": {
        "id": "jqLYEmqME_Sj"
      },
      "source": [
        "def resize(image, width, height):\n",
        "\treturn cv2.resize(image,(width, height))"
      ],
      "execution_count": null,
      "outputs": []
    },
    {
      "cell_type": "code",
      "metadata": {
        "id": "_PZ-wBmdE_Sl"
      },
      "source": [
        "def load_images(path,train_filenames):\n",
        "    #Lista de Imagenes\n",
        "    images = []\n",
        "\n",
        "    for filename in train_filenames:\n",
        "      img = cv2.imread(os.path.join(path,filename))\n",
        "      if img is not None:\n",
        "        img=resize (img,128,128)\n",
        "        images.append(img)\n",
        "    \n",
        "    return images \n",
        "\n",
        "    '''for filename in os.listdir(path):\n",
        "        img = cv2.imread(os.path.join(path,filename))\n",
        "        if img is not None:\n",
        "            img=resize (img,128,128)\n",
        "            images.append(img)\n",
        "            fileNames.append(filename)'''\n",
        "    #Se retorna lista de imagenes y sus nombres\n",
        "    "
      ],
      "execution_count": null,
      "outputs": []
    },
    {
      "cell_type": "code",
      "metadata": {
        "id": "kVxezyXARJJu"
      },
      "source": [
        "images = load_images('/drive/MyDrive/TACC/Reto/images',train_filenames)"
      ],
      "execution_count": null,
      "outputs": []
    },
    {
      "cell_type": "code",
      "metadata": {
        "id": "9dYqKVxLE_Sn"
      },
      "source": [
        "def rgb2gray(images):\n",
        "    return [np.dot(image[...,:3], [0.299, 0.587, 0.144]) for image in images]\n",
        "images = rgb2gray(images)"
      ],
      "execution_count": null,
      "outputs": []
    },
    {
      "cell_type": "code",
      "metadata": {
        "id": "SDCn3fucE_So"
      },
      "source": [
        "images=np.asarray(images)"
      ],
      "execution_count": null,
      "outputs": []
    },
    {
      "cell_type": "code",
      "metadata": {
        "id": "UsjlnWAxE_Sp"
      },
      "source": [
        "images = images / 255.\n",
        "mean = 0.5\n",
        "std = 0.5\n",
        "images = (images - mean) / std"
      ],
      "execution_count": null,
      "outputs": []
    },
    {
      "cell_type": "code",
      "metadata": {
        "id": "r_W24y5OE_Sr",
        "colab": {
          "base_uri": "https://localhost:8080/",
          "height": 53
        },
        "outputId": "9b9bc9c5-5d58-4685-c2ad-e9496d37daca"
      },
      "source": [
        "#ORDENAR ARREGLO DE FILENAMES\n",
        "'''def file_name_outputs(train_filenames,train_outputs):\n",
        "     return [x for (y,x) in sorted(zip(train_filenames,train_outputs), key=lambda pair: pair[0])]\n",
        "\n",
        "train_outputs = file_name_outputs(train_filenames,train_outputs)'''"
      ],
      "execution_count": null,
      "outputs": [
        {
          "output_type": "execute_result",
          "data": {
            "application/vnd.google.colaboratory.intrinsic+json": {
              "type": "string"
            },
            "text/plain": [
              "'def file_name_outputs(train_filenames,train_outputs):\\n     return [x for (y,x) in sorted(zip(train_filenames,train_outputs), key=lambda pair: pair[0])]\\n\\ntrain_outputs = file_name_outputs(train_filenames,train_outputs)'"
            ]
          },
          "metadata": {
            "tags": []
          },
          "execution_count": 11
        }
      ]
    },
    {
      "cell_type": "code",
      "metadata": {
        "id": "U2qza3W2E_Ss"
      },
      "source": [
        "train_outputs=np.asarray(train_outputs).astype(np.int)"
      ],
      "execution_count": null,
      "outputs": []
    },
    {
      "cell_type": "code",
      "metadata": {
        "id": "RYNhe1IZE_St"
      },
      "source": [
        "# Train validation split\n",
        "x_train, x_val, y_train, y_val = train_test_split(images, train_outputs, test_size=0.3, random_state=42)"
      ],
      "execution_count": null,
      "outputs": []
    },
    {
      "cell_type": "code",
      "metadata": {
        "colab": {
          "base_uri": "https://localhost:8080/"
        },
        "id": "-kyfDM-vE_Sv",
        "outputId": "eef0bc67-41b7-4f9e-9b27-b87bec8c79ca"
      },
      "source": [
        "x_train.shape"
      ],
      "execution_count": null,
      "outputs": [
        {
          "output_type": "execute_result",
          "data": {
            "text/plain": [
              "(2151, 128, 128)"
            ]
          },
          "metadata": {
            "tags": []
          },
          "execution_count": 13
        }
      ]
    },
    {
      "cell_type": "raw",
      "metadata": {
        "id": "y2SkO80CE_S0"
      },
      "source": [
        ""
      ]
    },
    {
      "cell_type": "code",
      "metadata": {
        "id": "LwyIl0vKE_S1"
      },
      "source": [
        "#AGREGO CANAL DE DATOS (COLOR)\n",
        "x_train = x_train.reshape((-1, 128, 128, 1))\n",
        "x_val = x_val.reshape((-1, 128, 128, 1))"
      ],
      "execution_count": null,
      "outputs": []
    },
    {
      "cell_type": "code",
      "metadata": {
        "colab": {
          "base_uri": "https://localhost:8080/"
        },
        "id": "ZJ38TbACR8fn",
        "outputId": "c0bffed5-ae8a-4163-db2e-0be2e2668816"
      },
      "source": [
        "type(y_train),type(x_train)"
      ],
      "execution_count": null,
      "outputs": [
        {
          "output_type": "execute_result",
          "data": {
            "text/plain": [
              "(numpy.ndarray, numpy.ndarray)"
            ]
          },
          "metadata": {
            "tags": []
          },
          "execution_count": 15
        }
      ]
    },
    {
      "cell_type": "code",
      "metadata": {
        "id": "CpmPRQQCE_S2"
      },
      "source": [
        "import tensorflow as tf\n",
        "#Batch size\n",
        "bs = 64\n",
        "\n",
        "dataset_train = tf.data.Dataset.from_tensor_slices((x_train, y_train))\n",
        "dataset_train = dataset_train.shuffle(buffer_size=100).batch(bs).prefetch(50)\n",
        "dataset_test = tf.data.Dataset.from_tensor_slices((x_val, y_val))\n",
        "dataset_test = dataset_test.batch(bs).prefetch(50)"
      ],
      "execution_count": null,
      "outputs": []
    },
    {
      "cell_type": "code",
      "metadata": {
        "id": "l5XDmBG3E_S3"
      },
      "source": [
        "from tensorflow.keras.models import Model\n",
        "from tensorflow.keras.layers import Input, Conv2D, MaxPool2D, ReLU, Flatten, Dense \n",
        "from tensorflow.keras.optimizers import SGD\n",
        "from tensorflow.keras import backend as K\n",
        "\n",
        "def create_model():\n",
        "    K.clear_session()\n",
        "    \n",
        "    input_layer = Input(shape=(128, 128, 1))\n",
        "    convolutional_1 = Conv2D(32, kernel_size=3, padding=\"same\")(input_layer)\n",
        "    relu_1 = ReLU()(convolutional_1)\n",
        "    max_pooling_1 = MaxPool2D(2)(relu_1)\n",
        "    \n",
        "    convolutional_2 = Conv2D(64, kernel_size=3, padding=\"same\")(max_pooling_1)\n",
        "    relu_2 = ReLU()(convolutional_2)\n",
        "    max_pooling_2 = MaxPool2D(2)(relu_2)\n",
        "\n",
        "    convolutional_3 = Conv2D(128, kernel_size=3, padding=\"same\")(max_pooling_2)\n",
        "    relu_3 = ReLU()(convolutional_3)\n",
        "    max_pooling_3 = MaxPool2D(2)(relu_3)\n",
        "    \n",
        "    convolutional_4 = Conv2D(256, kernel_size=3)(max_pooling_3)\n",
        "    relu_4 = ReLU(256)(convolutional_4)\n",
        "    \n",
        "    flatten = Flatten()(relu_4)\n",
        "    \n",
        "    dense1 = Dense(256, activation=\"tanh\",kernel_initializer='glorot_normal')(flatten)\n",
        "    drop1=Dropout(0.2)(dense1)\n",
        "    dense2 = Dense(128, activation=\"tanh\",kernel_initializer='glorot_normal')(drop1)\n",
        "    drop2=Dropout(0.1)(dense2)\n",
        "    dense3 = Dense(64, activation=\"tanh\",kernel_initializer='glorot_normal')(drop2)\n",
        "    drop3=Dropout(0.1)(dense3)\n",
        "    output_layer = Dense(1, activation=\"sigmoid\")(drop3)\n",
        "\n",
        "    model = Model(inputs=input_layer, outputs=output_layer)\n",
        "\n",
        "    return model"
      ],
      "execution_count": null,
      "outputs": []
    },
    {
      "cell_type": "code",
      "metadata": {
        "id": "9KeZe_VAE_S8"
      },
      "source": [
        "lr = 0.0001\n",
        "momentum = 0.9\n",
        "\n",
        "model = create_model()\n",
        "\n",
        "model.compile(optimizer=Adam(lr), loss='MSE', metrics=['accuracy'])"
      ],
      "execution_count": null,
      "outputs": []
    },
    {
      "cell_type": "code",
      "metadata": {
        "colab": {
          "base_uri": "https://localhost:8080/"
        },
        "id": "XUVURwEtE_S9",
        "outputId": "3fb58dd5-7c03-4b94-cc25-93a91004874a"
      },
      "source": [
        "model.summary()"
      ],
      "execution_count": null,
      "outputs": [
        {
          "output_type": "stream",
          "text": [
            "Model: \"model\"\n",
            "_________________________________________________________________\n",
            "Layer (type)                 Output Shape              Param #   \n",
            "=================================================================\n",
            "input_1 (InputLayer)         [(None, 128, 128, 1)]     0         \n",
            "_________________________________________________________________\n",
            "conv2d (Conv2D)              (None, 128, 128, 32)      320       \n",
            "_________________________________________________________________\n",
            "re_lu (ReLU)                 (None, 128, 128, 32)      0         \n",
            "_________________________________________________________________\n",
            "max_pooling2d (MaxPooling2D) (None, 64, 64, 32)        0         \n",
            "_________________________________________________________________\n",
            "conv2d_1 (Conv2D)            (None, 64, 64, 64)        18496     \n",
            "_________________________________________________________________\n",
            "re_lu_1 (ReLU)               (None, 64, 64, 64)        0         \n",
            "_________________________________________________________________\n",
            "max_pooling2d_1 (MaxPooling2 (None, 32, 32, 64)        0         \n",
            "_________________________________________________________________\n",
            "conv2d_2 (Conv2D)            (None, 32, 32, 128)       73856     \n",
            "_________________________________________________________________\n",
            "re_lu_2 (ReLU)               (None, 32, 32, 128)       0         \n",
            "_________________________________________________________________\n",
            "max_pooling2d_2 (MaxPooling2 (None, 16, 16, 128)       0         \n",
            "_________________________________________________________________\n",
            "conv2d_3 (Conv2D)            (None, 14, 14, 256)       295168    \n",
            "_________________________________________________________________\n",
            "re_lu_3 (ReLU)               (None, 14, 14, 256)       0         \n",
            "_________________________________________________________________\n",
            "flatten (Flatten)            (None, 50176)             0         \n",
            "_________________________________________________________________\n",
            "dense (Dense)                (None, 256)               12845312  \n",
            "_________________________________________________________________\n",
            "dropout (Dropout)            (None, 256)               0         \n",
            "_________________________________________________________________\n",
            "dense_1 (Dense)              (None, 128)               32896     \n",
            "_________________________________________________________________\n",
            "dropout_1 (Dropout)          (None, 128)               0         \n",
            "_________________________________________________________________\n",
            "dense_2 (Dense)              (None, 64)                8256      \n",
            "_________________________________________________________________\n",
            "dropout_2 (Dropout)          (None, 64)                0         \n",
            "_________________________________________________________________\n",
            "dense_3 (Dense)              (None, 1)                 65        \n",
            "=================================================================\n",
            "Total params: 13,274,369\n",
            "Trainable params: 13,274,369\n",
            "Non-trainable params: 0\n",
            "_________________________________________________________________\n"
          ],
          "name": "stdout"
        }
      ]
    },
    {
      "cell_type": "code",
      "metadata": {
        "colab": {
          "base_uri": "https://localhost:8080/"
        },
        "id": "tc4zklcHE_S_",
        "outputId": "3cf365fb-8d21-4bdd-b0c9-1dbbcfc8ca13"
      },
      "source": [
        "history = model.fit(dataset_train, batch_size=64, epochs=16, validation_data=dataset_test)"
      ],
      "execution_count": null,
      "outputs": [
        {
          "output_type": "stream",
          "text": [
            "Epoch 1/16\n",
            "34/34 [==============================] - 2s 55ms/step - loss: 0.1809 - accuracy: 0.7204 - val_loss: 0.0576 - val_accuracy: 0.9144\n",
            "Epoch 2/16\n",
            "34/34 [==============================] - 2s 48ms/step - loss: 0.0571 - accuracy: 0.9287 - val_loss: 0.0469 - val_accuracy: 0.9382\n",
            "Epoch 3/16\n",
            "34/34 [==============================] - 2s 48ms/step - loss: 0.0444 - accuracy: 0.9444 - val_loss: 0.0419 - val_accuracy: 0.9458\n",
            "Epoch 4/16\n",
            "34/34 [==============================] - 2s 48ms/step - loss: 0.0364 - accuracy: 0.9557 - val_loss: 0.0417 - val_accuracy: 0.9469\n",
            "Epoch 5/16\n",
            "34/34 [==============================] - 2s 49ms/step - loss: 0.0315 - accuracy: 0.9576 - val_loss: 0.0388 - val_accuracy: 0.9523\n",
            "Epoch 6/16\n",
            "34/34 [==============================] - 2s 48ms/step - loss: 0.0262 - accuracy: 0.9708 - val_loss: 0.0379 - val_accuracy: 0.9534\n",
            "Epoch 7/16\n",
            "34/34 [==============================] - 2s 49ms/step - loss: 0.0233 - accuracy: 0.9731 - val_loss: 0.0361 - val_accuracy: 0.9567\n",
            "Epoch 8/16\n",
            "34/34 [==============================] - 2s 49ms/step - loss: 0.0199 - accuracy: 0.9775 - val_loss: 0.0504 - val_accuracy: 0.9350\n",
            "Epoch 9/16\n",
            "34/34 [==============================] - 2s 49ms/step - loss: 0.0228 - accuracy: 0.9721 - val_loss: 0.0375 - val_accuracy: 0.9523\n",
            "Epoch 10/16\n",
            "34/34 [==============================] - 2s 48ms/step - loss: 0.0227 - accuracy: 0.9696 - val_loss: 0.0392 - val_accuracy: 0.9523\n",
            "Epoch 11/16\n",
            "34/34 [==============================] - 2s 49ms/step - loss: 0.0173 - accuracy: 0.9790 - val_loss: 0.0360 - val_accuracy: 0.9545\n",
            "Epoch 12/16\n",
            "34/34 [==============================] - 2s 48ms/step - loss: 0.0113 - accuracy: 0.9881 - val_loss: 0.0367 - val_accuracy: 0.9534\n",
            "Epoch 13/16\n",
            "34/34 [==============================] - 2s 49ms/step - loss: 0.0102 - accuracy: 0.9894 - val_loss: 0.0349 - val_accuracy: 0.9556\n",
            "Epoch 14/16\n",
            "34/34 [==============================] - 2s 49ms/step - loss: 0.0082 - accuracy: 0.9947 - val_loss: 0.0378 - val_accuracy: 0.9545\n",
            "Epoch 15/16\n",
            "34/34 [==============================] - 2s 49ms/step - loss: 0.0086 - accuracy: 0.9919 - val_loss: 0.0342 - val_accuracy: 0.9599\n",
            "Epoch 16/16\n",
            "34/34 [==============================] - 2s 49ms/step - loss: 0.0066 - accuracy: 0.9950 - val_loss: 0.0369 - val_accuracy: 0.9556\n"
          ],
          "name": "stdout"
        }
      ]
    },
    {
      "cell_type": "code",
      "metadata": {
        "id": "cex-JiLwE_TA"
      },
      "source": [
        "def show_results(log):\n",
        "    val_loss = log.history['val_loss']\n",
        "    val_acc = log.history['val_accuracy']\n",
        "\n",
        "    fig, axes = plt.subplots(1, 2, figsize=(14,4))\n",
        "    ax1, ax2 = axes\n",
        "    ax1.plot(log.history['loss'], label='train')\n",
        "    ax1.plot(val_loss, label='test')\n",
        "    ax1.set_xlabel('epoch'); ax1.set_ylabel('loss')\n",
        "    ax2.plot(log.history['accuracy'], label='train')\n",
        "    ax2.plot(val_acc, label='test')\n",
        "    ax2.set_xlabel('epoch'); ax2.set_ylabel('accuracy')\n",
        "    for ax in axes: ax.legend()\n",
        "        \n"
      ],
      "execution_count": null,
      "outputs": []
    },
    {
      "cell_type": "code",
      "metadata": {
        "colab": {
          "base_uri": "https://localhost:8080/",
          "height": 282
        },
        "id": "nRdin2yYE_TC",
        "outputId": "64b59932-0963-4f09-b8cd-a754a7b9820f"
      },
      "source": [
        "show_results(history)"
      ],
      "execution_count": null,
      "outputs": [
        {
          "output_type": "display_data",
          "data": {
            "image/png": "[encoded data removed]",
            "text/plain": [
              "<Figure size 1008x288 with 2 Axes>"
            ]
          },
          "metadata": {
            "tags": [],
            "needs_background": "light"
          }
        }
      ]
    },
    {
      "cell_type": "code",
      "metadata": {
        "id": "-t4T0O6_E_TE"
      },
      "source": [
        "images_sample = load_images('/drive/MyDrive/TACC/Reto/sample',sample_filenames)"
      ],
      "execution_count": null,
      "outputs": []
    },
    {
      "cell_type": "code",
      "metadata": {
        "id": "rn_wNQynE_TF"
      },
      "source": [
        "images_sample = rgb2gray(images_sample)\n",
        "images_sample=np.asarray(images_sample)\n",
        "\n",
        "images_sample = images_sample / 255.\n",
        "mean = 0.5\n",
        "std = 0.5\n",
        "images_sample = (images_sample - mean) / std\n",
        "\n",
        "images_sample = images_sample.reshape((-1, 128, 128, 1))"
      ],
      "execution_count": null,
      "outputs": []
    },
    {
      "cell_type": "code",
      "metadata": {
        "id": "96XXE-3cE_TG"
      },
      "source": [
        "predictions = model(images_sample)"
      ],
      "execution_count": null,
      "outputs": []
    },
    {
      "cell_type": "code",
      "metadata": {
        "id": "6eT5gRJfE_TH"
      },
      "source": [
        "predictions=np.asarray(predictions)"
      ],
      "execution_count": null,
      "outputs": []
    },
    {
      "cell_type": "code",
      "metadata": {
        "id": "xyVNkHbOE_TI"
      },
      "source": [
        "predictions = predictions.reshape(-1,)"
      ],
      "execution_count": null,
      "outputs": []
    },
    {
      "cell_type": "code",
      "metadata": {
        "id": "RMnvCfHzE_TJ"
      },
      "source": [
        "Resultados=pd.DataFrame(zip(sample_filenames,predictions),columns=['fileName','pneumonia'])"
      ],
      "execution_count": null,
      "outputs": []
    },
    {
      "cell_type": "code",
      "metadata": {
        "id": "tVICiOwRE_TK",
        "colab": {
          "base_uri": "https://localhost:8080/",
          "height": 406
        },
        "outputId": "cc3f9091-23f8-4b33-c21e-95bb63d05079"
      },
      "source": [
        "Resultados"
      ],
      "execution_count": null,
      "outputs": [
        {
          "output_type": "execute_result",
          "data": {
            "text/html": [
              "<div>\n",
              "<style scoped>\n",
              "    .dataframe tbody tr th:only-of-type {\n",
              "        vertical-align: middle;\n",
              "    }\n",
              "\n",
              "    .dataframe tbody tr th {\n",
              "        vertical-align: top;\n",
              "    }\n",
              "\n",
              "    .dataframe thead th {\n",
              "        text-align: right;\n",
              "    }\n",
              "</style>\n",
              "<table border=\"1\" class=\"dataframe\">\n",
              "  <thead>\n",
              "    <tr style=\"text-align: right;\">\n",
              "      <th></th>\n",
              "      <th>fileName</th>\n",
              "      <th>pneumonia</th>\n",
              "    </tr>\n",
              "  </thead>\n",
              "  <tbody>\n",
              "    <tr>\n",
              "      <th>0</th>\n",
              "      <td>b8f6db1b-8bc3-494f-84f0-f7ed6435e6d2.jpeg</td>\n",
              "      <td>0.999572</td>\n",
              "    </tr>\n",
              "    <tr>\n",
              "      <th>1</th>\n",
              "      <td>fb662f9a-b0c4-4ea6-b278-88161f17f4ad.jpeg</td>\n",
              "      <td>0.201786</td>\n",
              "    </tr>\n",
              "    <tr>\n",
              "      <th>2</th>\n",
              "      <td>97b254d1-c1a3-4554-9140-ec0203e355cf.jpeg</td>\n",
              "      <td>0.002888</td>\n",
              "    </tr>\n",
              "    <tr>\n",
              "      <th>3</th>\n",
              "      <td>01ae9376-8052-4cce-85bf-5019ebadaf32.jpeg</td>\n",
              "      <td>0.999331</td>\n",
              "    </tr>\n",
              "    <tr>\n",
              "      <th>4</th>\n",
              "      <td>c16175b7-218f-4e72-8e29-8c96c0f0df69.jpeg</td>\n",
              "      <td>0.998892</td>\n",
              "    </tr>\n",
              "    <tr>\n",
              "      <th>...</th>\n",
              "      <td>...</td>\n",
              "      <td>...</td>\n",
              "    </tr>\n",
              "    <tr>\n",
              "      <th>1020</th>\n",
              "      <td>9bc8bd30-d22f-4b97-ad19-09dc7cb5a65a.jpeg</td>\n",
              "      <td>0.790122</td>\n",
              "    </tr>\n",
              "    <tr>\n",
              "      <th>1021</th>\n",
              "      <td>afe25257-1533-49c0-bb38-61325a54de08.jpeg</td>\n",
              "      <td>0.998121</td>\n",
              "    </tr>\n",
              "    <tr>\n",
              "      <th>1022</th>\n",
              "      <td>5c3d905e-a282-4353-be3c-02515be35978.jpeg</td>\n",
              "      <td>0.999018</td>\n",
              "    </tr>\n",
              "    <tr>\n",
              "      <th>1023</th>\n",
              "      <td>cd476365-c360-4e8e-8292-5d9cdffa7e75.jpeg</td>\n",
              "      <td>0.019179</td>\n",
              "    </tr>\n",
              "    <tr>\n",
              "      <th>1024</th>\n",
              "      <td>040afb70-5883-4838-97f9-cd695a7f2c96.jpeg</td>\n",
              "      <td>0.997691</td>\n",
              "    </tr>\n",
              "  </tbody>\n",
              "</table>\n",
              "<p>1025 rows × 2 columns</p>\n",
              "</div>"
            ],
            "text/plain": [
              "                                       fileName  pneumonia\n",
              "0     b8f6db1b-8bc3-494f-84f0-f7ed6435e6d2.jpeg   0.999572\n",
              "1     fb662f9a-b0c4-4ea6-b278-88161f17f4ad.jpeg   0.201786\n",
              "2     97b254d1-c1a3-4554-9140-ec0203e355cf.jpeg   0.002888\n",
              "3     01ae9376-8052-4cce-85bf-5019ebadaf32.jpeg   0.999331\n",
              "4     c16175b7-218f-4e72-8e29-8c96c0f0df69.jpeg   0.998892\n",
              "...                                         ...        ...\n",
              "1020  9bc8bd30-d22f-4b97-ad19-09dc7cb5a65a.jpeg   0.790122\n",
              "1021  afe25257-1533-49c0-bb38-61325a54de08.jpeg   0.998121\n",
              "1022  5c3d905e-a282-4353-be3c-02515be35978.jpeg   0.999018\n",
              "1023  cd476365-c360-4e8e-8292-5d9cdffa7e75.jpeg   0.019179\n",
              "1024  040afb70-5883-4838-97f9-cd695a7f2c96.jpeg   0.997691\n",
              "\n",
              "[1025 rows x 2 columns]"
            ]
          },
          "metadata": {
            "tags": []
          },
          "execution_count": 100
        }
      ]
    },
    {
      "cell_type": "code",
      "metadata": {
        "id": "7aKnywpdE_TL"
      },
      "source": [
        "Resultados.to_csv('/drive/MyDrive/TACC/Reto/caballos_submission.csv',index=False)"
      ],
      "execution_count": null,
      "outputs": []
    }
  ]
}